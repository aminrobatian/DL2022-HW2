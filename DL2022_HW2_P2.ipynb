{
  "nbformat": 4,
  "nbformat_minor": 0,
  "metadata": {
    "colab": {
      "provenance": []
    },
    "kernelspec": {
      "name": "python3",
      "display_name": "Python 3"
    },
    "language_info": {
      "name": "python"
    },
    "gpuClass": "standard",
    "accelerator": "GPU"
  },
  "cells": [
    {
      "cell_type": "markdown",
      "source": [
        "# Deep Learning\n",
        "## HW2 - Problem 2\n",
        "\n",
        "Name: Amin Robatian\n",
        "\n",
        "Student Number: 400301075"
      ],
      "metadata": {
        "id": "3tID6SHt2d6D"
      }
    },
    {
      "cell_type": "code",
      "source": [
        "import torch\n",
        "import torch.nn as nn\n",
        "import torch.nn.functional as F\n",
        "from torch.utils.data import Dataset, DataLoader\n",
        "from torchvision.transforms import ToTensor, Lambda\n",
        "import pandas as pd\n",
        "import random\n",
        "import numpy as np\n",
        "import seaborn as sn\n",
        "import matplotlib.pyplot as plt\n",
        "from math import floor\n",
        "\n",
        "%matplotlib inline\n",
        "\n",
        "torch.manual_seed(30)\n",
        "random.seed(30)\n",
        "np.random.seed(30)\n",
        "\n",
        "device = \"cuda\" if torch.cuda.is_available() else \"cpu\"\n",
        "print(f\"Using {device} device\")"
      ],
      "metadata": {
        "colab": {
          "base_uri": "https://localhost:8080/"
        },
        "id": "YdhoLYGY_SX2",
        "outputId": "ab6c2dda-d6a5-4a9a-d3c0-f776f4cc196a"
      },
      "execution_count": 1,
      "outputs": [
        {
          "output_type": "stream",
          "name": "stdout",
          "text": [
            "Using cuda device\n"
          ]
        }
      ]
    },
    {
      "cell_type": "code",
      "source": [
        "from google.colab import drive\n",
        "drive.mount('/content/drive')\n",
        "%cd /content/drive/MyDrive/DL HW2/"
      ],
      "metadata": {
        "id": "lZAdVvSsV5g4",
        "colab": {
          "base_uri": "https://localhost:8080/"
        },
        "outputId": "3a6ac06f-a81e-4392-a152-fc9ffddbf64d"
      },
      "execution_count": 2,
      "outputs": [
        {
          "output_type": "stream",
          "name": "stdout",
          "text": [
            "Mounted at /content/drive\n",
            "/content/drive/MyDrive/DL HW2\n"
          ]
        }
      ]
    },
    {
      "cell_type": "markdown",
      "source": [
        "# Part (A) - Data Uploading"
      ],
      "metadata": {
        "id": "bPYaxbz3_TBc"
      }
    },
    {
      "cell_type": "code",
      "execution_count": 3,
      "metadata": {
        "id": "8CclxSnH08eN",
        "colab": {
          "base_uri": "https://localhost:8080/",
          "height": 526
        },
        "outputId": "dcd7f9c4-1f22-4bd5-a24f-fb744c972b98"
      },
      "outputs": [
        {
          "output_type": "execute_result",
          "data": {
            "text/plain": [
              "             date               home_team            away_team  \\\n",
              "23911  2022-06-14                 Ukraine  Republic of Ireland   \n",
              "23912  2022-06-14  Bosnia and Herzegovina              Finland   \n",
              "23913  2022-06-14                 Romania           Montenegro   \n",
              "23914  2022-06-14              Luxembourg        Faroe Islands   \n",
              "23915  2022-06-14                  Turkey            Lithuania   \n",
              "23916  2022-06-14                 Moldova              Andorra   \n",
              "23917  2022-06-14           Liechtenstein               Latvia   \n",
              "23918  2022-06-14                   Chile                Ghana   \n",
              "23919  2022-06-14                   Japan              Tunisia   \n",
              "23920  2022-06-14          Korea Republic                Egypt   \n",
              "\n",
              "      home_team_continent away_team_continent  home_team_fifa_rank  \\\n",
              "23911              Europe              Europe                   27   \n",
              "23912              Europe              Europe                   59   \n",
              "23913              Europe              Europe                   48   \n",
              "23914              Europe              Europe                   94   \n",
              "23915              Europe              Europe                   43   \n",
              "23916              Europe              Europe                  180   \n",
              "23917              Europe              Europe                  192   \n",
              "23918       South America              Africa                   28   \n",
              "23919                Asia              Africa                   23   \n",
              "23920                Asia              Africa                   29   \n",
              "\n",
              "       away_team_fifa_rank  home_team_total_fifa_points  \\\n",
              "23911                   47                         1535   \n",
              "23912                   57                         1388   \n",
              "23913                   70                         1446   \n",
              "23914                  124                         1229   \n",
              "23915                  138                         1461   \n",
              "23916                  153                          932   \n",
              "23917                  135                          895   \n",
              "23918                   60                         1526   \n",
              "23919                   35                         1553   \n",
              "23920                   32                         1519   \n",
              "\n",
              "       away_team_total_fifa_points  home_team_score  ...  shoot_out  \\\n",
              "23911                         1449                1  ...         No   \n",
              "23912                         1406                3  ...         No   \n",
              "23913                         1342                0  ...         No   \n",
              "23914                         1137                2  ...         No   \n",
              "23915                         1092                2  ...         No   \n",
              "23916                         1040                2  ...         No   \n",
              "23917                         1105                0  ...         No   \n",
              "23918                         1387                0  ...        Yes   \n",
              "23919                         1499                0  ...         No   \n",
              "23920                         1500                4  ...         No   \n",
              "\n",
              "      home_team_result home_team_goalkeeper_score away_team_goalkeeper_score  \\\n",
              "23911             Draw                       75.0                       75.0   \n",
              "23912              Win                       76.0                       83.0   \n",
              "23913             Lose                       77.0                       65.0   \n",
              "23914             Draw                       69.0                        NaN   \n",
              "23915              Win                       79.0                       71.0   \n",
              "23916              Win                       65.0                        NaN   \n",
              "23917             Lose                        NaN                       65.0   \n",
              "23918             Lose                       79.0                       74.0   \n",
              "23919             Lose                       73.0                        NaN   \n",
              "23920              Win                       75.0                        NaN   \n",
              "\n",
              "       home_team_mean_defense_score home_team_mean_offense_score  \\\n",
              "23911                          74.8                         78.7   \n",
              "23912                          74.2                         77.0   \n",
              "23913                          73.5                         73.7   \n",
              "23914                          68.5                          NaN   \n",
              "23915                          78.2                         76.7   \n",
              "23916                           NaN                          NaN   \n",
              "23917                           NaN                          NaN   \n",
              "23918                          75.5                         76.7   \n",
              "23919                          75.2                         75.0   \n",
              "23920                          73.0                         80.0   \n",
              "\n",
              "      home_team_mean_midfield_score  away_team_mean_defense_score  \\\n",
              "23911                          80.0                          76.5   \n",
              "23912                          78.0                          70.0   \n",
              "23913                          75.0                          76.2   \n",
              "23914                          69.8                           NaN   \n",
              "23915                          78.2                           NaN   \n",
              "23916                           NaN                           NaN   \n",
              "23917                           NaN                           NaN   \n",
              "23918                          78.2                          75.5   \n",
              "23919                          77.5                          70.8   \n",
              "23920                          73.8                           NaN   \n",
              "\n",
              "       away_team_mean_offense_score  away_team_mean_midfield_score  \n",
              "23911                          72.7                           73.8  \n",
              "23912                          72.3                           73.5  \n",
              "23913                          74.7                           68.2  \n",
              "23914                           NaN                            NaN  \n",
              "23915                           NaN                            NaN  \n",
              "23916                           NaN                            NaN  \n",
              "23917                           NaN                            NaN  \n",
              "23918                          76.0                           78.2  \n",
              "23919                          72.3                           74.0  \n",
              "23920                          79.3                           70.8  \n",
              "\n",
              "[10 rows x 25 columns]"
            ],
            "text/html": [
              "\n",
              "  <div id=\"df-5f8c470d-bd85-4c89-ba7b-8c619d1f5936\">\n",
              "    <div class=\"colab-df-container\">\n",
              "      <div>\n",
              "<style scoped>\n",
              "    .dataframe tbody tr th:only-of-type {\n",
              "        vertical-align: middle;\n",
              "    }\n",
              "\n",
              "    .dataframe tbody tr th {\n",
              "        vertical-align: top;\n",
              "    }\n",
              "\n",
              "    .dataframe thead th {\n",
              "        text-align: right;\n",
              "    }\n",
              "</style>\n",
              "<table border=\"1\" class=\"dataframe\">\n",
              "  <thead>\n",
              "    <tr style=\"text-align: right;\">\n",
              "      <th></th>\n",
              "      <th>date</th>\n",
              "      <th>home_team</th>\n",
              "      <th>away_team</th>\n",
              "      <th>home_team_continent</th>\n",
              "      <th>away_team_continent</th>\n",
              "      <th>home_team_fifa_rank</th>\n",
              "      <th>away_team_fifa_rank</th>\n",
              "      <th>home_team_total_fifa_points</th>\n",
              "      <th>away_team_total_fifa_points</th>\n",
              "      <th>home_team_score</th>\n",
              "      <th>...</th>\n",
              "      <th>shoot_out</th>\n",
              "      <th>home_team_result</th>\n",
              "      <th>home_team_goalkeeper_score</th>\n",
              "      <th>away_team_goalkeeper_score</th>\n",
              "      <th>home_team_mean_defense_score</th>\n",
              "      <th>home_team_mean_offense_score</th>\n",
              "      <th>home_team_mean_midfield_score</th>\n",
              "      <th>away_team_mean_defense_score</th>\n",
              "      <th>away_team_mean_offense_score</th>\n",
              "      <th>away_team_mean_midfield_score</th>\n",
              "    </tr>\n",
              "  </thead>\n",
              "  <tbody>\n",
              "    <tr>\n",
              "      <th>23911</th>\n",
              "      <td>2022-06-14</td>\n",
              "      <td>Ukraine</td>\n",
              "      <td>Republic of Ireland</td>\n",
              "      <td>Europe</td>\n",
              "      <td>Europe</td>\n",
              "      <td>27</td>\n",
              "      <td>47</td>\n",
              "      <td>1535</td>\n",
              "      <td>1449</td>\n",
              "      <td>1</td>\n",
              "      <td>...</td>\n",
              "      <td>No</td>\n",
              "      <td>Draw</td>\n",
              "      <td>75.0</td>\n",
              "      <td>75.0</td>\n",
              "      <td>74.8</td>\n",
              "      <td>78.7</td>\n",
              "      <td>80.0</td>\n",
              "      <td>76.5</td>\n",
              "      <td>72.7</td>\n",
              "      <td>73.8</td>\n",
              "    </tr>\n",
              "    <tr>\n",
              "      <th>23912</th>\n",
              "      <td>2022-06-14</td>\n",
              "      <td>Bosnia and Herzegovina</td>\n",
              "      <td>Finland</td>\n",
              "      <td>Europe</td>\n",
              "      <td>Europe</td>\n",
              "      <td>59</td>\n",
              "      <td>57</td>\n",
              "      <td>1388</td>\n",
              "      <td>1406</td>\n",
              "      <td>3</td>\n",
              "      <td>...</td>\n",
              "      <td>No</td>\n",
              "      <td>Win</td>\n",
              "      <td>76.0</td>\n",
              "      <td>83.0</td>\n",
              "      <td>74.2</td>\n",
              "      <td>77.0</td>\n",
              "      <td>78.0</td>\n",
              "      <td>70.0</td>\n",
              "      <td>72.3</td>\n",
              "      <td>73.5</td>\n",
              "    </tr>\n",
              "    <tr>\n",
              "      <th>23913</th>\n",
              "      <td>2022-06-14</td>\n",
              "      <td>Romania</td>\n",
              "      <td>Montenegro</td>\n",
              "      <td>Europe</td>\n",
              "      <td>Europe</td>\n",
              "      <td>48</td>\n",
              "      <td>70</td>\n",
              "      <td>1446</td>\n",
              "      <td>1342</td>\n",
              "      <td>0</td>\n",
              "      <td>...</td>\n",
              "      <td>No</td>\n",
              "      <td>Lose</td>\n",
              "      <td>77.0</td>\n",
              "      <td>65.0</td>\n",
              "      <td>73.5</td>\n",
              "      <td>73.7</td>\n",
              "      <td>75.0</td>\n",
              "      <td>76.2</td>\n",
              "      <td>74.7</td>\n",
              "      <td>68.2</td>\n",
              "    </tr>\n",
              "    <tr>\n",
              "      <th>23914</th>\n",
              "      <td>2022-06-14</td>\n",
              "      <td>Luxembourg</td>\n",
              "      <td>Faroe Islands</td>\n",
              "      <td>Europe</td>\n",
              "      <td>Europe</td>\n",
              "      <td>94</td>\n",
              "      <td>124</td>\n",
              "      <td>1229</td>\n",
              "      <td>1137</td>\n",
              "      <td>2</td>\n",
              "      <td>...</td>\n",
              "      <td>No</td>\n",
              "      <td>Draw</td>\n",
              "      <td>69.0</td>\n",
              "      <td>NaN</td>\n",
              "      <td>68.5</td>\n",
              "      <td>NaN</td>\n",
              "      <td>69.8</td>\n",
              "      <td>NaN</td>\n",
              "      <td>NaN</td>\n",
              "      <td>NaN</td>\n",
              "    </tr>\n",
              "    <tr>\n",
              "      <th>23915</th>\n",
              "      <td>2022-06-14</td>\n",
              "      <td>Turkey</td>\n",
              "      <td>Lithuania</td>\n",
              "      <td>Europe</td>\n",
              "      <td>Europe</td>\n",
              "      <td>43</td>\n",
              "      <td>138</td>\n",
              "      <td>1461</td>\n",
              "      <td>1092</td>\n",
              "      <td>2</td>\n",
              "      <td>...</td>\n",
              "      <td>No</td>\n",
              "      <td>Win</td>\n",
              "      <td>79.0</td>\n",
              "      <td>71.0</td>\n",
              "      <td>78.2</td>\n",
              "      <td>76.7</td>\n",
              "      <td>78.2</td>\n",
              "      <td>NaN</td>\n",
              "      <td>NaN</td>\n",
              "      <td>NaN</td>\n",
              "    </tr>\n",
              "    <tr>\n",
              "      <th>23916</th>\n",
              "      <td>2022-06-14</td>\n",
              "      <td>Moldova</td>\n",
              "      <td>Andorra</td>\n",
              "      <td>Europe</td>\n",
              "      <td>Europe</td>\n",
              "      <td>180</td>\n",
              "      <td>153</td>\n",
              "      <td>932</td>\n",
              "      <td>1040</td>\n",
              "      <td>2</td>\n",
              "      <td>...</td>\n",
              "      <td>No</td>\n",
              "      <td>Win</td>\n",
              "      <td>65.0</td>\n",
              "      <td>NaN</td>\n",
              "      <td>NaN</td>\n",
              "      <td>NaN</td>\n",
              "      <td>NaN</td>\n",
              "      <td>NaN</td>\n",
              "      <td>NaN</td>\n",
              "      <td>NaN</td>\n",
              "    </tr>\n",
              "    <tr>\n",
              "      <th>23917</th>\n",
              "      <td>2022-06-14</td>\n",
              "      <td>Liechtenstein</td>\n",
              "      <td>Latvia</td>\n",
              "      <td>Europe</td>\n",
              "      <td>Europe</td>\n",
              "      <td>192</td>\n",
              "      <td>135</td>\n",
              "      <td>895</td>\n",
              "      <td>1105</td>\n",
              "      <td>0</td>\n",
              "      <td>...</td>\n",
              "      <td>No</td>\n",
              "      <td>Lose</td>\n",
              "      <td>NaN</td>\n",
              "      <td>65.0</td>\n",
              "      <td>NaN</td>\n",
              "      <td>NaN</td>\n",
              "      <td>NaN</td>\n",
              "      <td>NaN</td>\n",
              "      <td>NaN</td>\n",
              "      <td>NaN</td>\n",
              "    </tr>\n",
              "    <tr>\n",
              "      <th>23918</th>\n",
              "      <td>2022-06-14</td>\n",
              "      <td>Chile</td>\n",
              "      <td>Ghana</td>\n",
              "      <td>South America</td>\n",
              "      <td>Africa</td>\n",
              "      <td>28</td>\n",
              "      <td>60</td>\n",
              "      <td>1526</td>\n",
              "      <td>1387</td>\n",
              "      <td>0</td>\n",
              "      <td>...</td>\n",
              "      <td>Yes</td>\n",
              "      <td>Lose</td>\n",
              "      <td>79.0</td>\n",
              "      <td>74.0</td>\n",
              "      <td>75.5</td>\n",
              "      <td>76.7</td>\n",
              "      <td>78.2</td>\n",
              "      <td>75.5</td>\n",
              "      <td>76.0</td>\n",
              "      <td>78.2</td>\n",
              "    </tr>\n",
              "    <tr>\n",
              "      <th>23919</th>\n",
              "      <td>2022-06-14</td>\n",
              "      <td>Japan</td>\n",
              "      <td>Tunisia</td>\n",
              "      <td>Asia</td>\n",
              "      <td>Africa</td>\n",
              "      <td>23</td>\n",
              "      <td>35</td>\n",
              "      <td>1553</td>\n",
              "      <td>1499</td>\n",
              "      <td>0</td>\n",
              "      <td>...</td>\n",
              "      <td>No</td>\n",
              "      <td>Lose</td>\n",
              "      <td>73.0</td>\n",
              "      <td>NaN</td>\n",
              "      <td>75.2</td>\n",
              "      <td>75.0</td>\n",
              "      <td>77.5</td>\n",
              "      <td>70.8</td>\n",
              "      <td>72.3</td>\n",
              "      <td>74.0</td>\n",
              "    </tr>\n",
              "    <tr>\n",
              "      <th>23920</th>\n",
              "      <td>2022-06-14</td>\n",
              "      <td>Korea Republic</td>\n",
              "      <td>Egypt</td>\n",
              "      <td>Asia</td>\n",
              "      <td>Africa</td>\n",
              "      <td>29</td>\n",
              "      <td>32</td>\n",
              "      <td>1519</td>\n",
              "      <td>1500</td>\n",
              "      <td>4</td>\n",
              "      <td>...</td>\n",
              "      <td>No</td>\n",
              "      <td>Win</td>\n",
              "      <td>75.0</td>\n",
              "      <td>NaN</td>\n",
              "      <td>73.0</td>\n",
              "      <td>80.0</td>\n",
              "      <td>73.8</td>\n",
              "      <td>NaN</td>\n",
              "      <td>79.3</td>\n",
              "      <td>70.8</td>\n",
              "    </tr>\n",
              "  </tbody>\n",
              "</table>\n",
              "<p>10 rows × 25 columns</p>\n",
              "</div>\n",
              "      <button class=\"colab-df-convert\" onclick=\"convertToInteractive('df-5f8c470d-bd85-4c89-ba7b-8c619d1f5936')\"\n",
              "              title=\"Convert this dataframe to an interactive table.\"\n",
              "              style=\"display:none;\">\n",
              "        \n",
              "  <svg xmlns=\"http://www.w3.org/2000/svg\" height=\"24px\"viewBox=\"0 0 24 24\"\n",
              "       width=\"24px\">\n",
              "    <path d=\"M0 0h24v24H0V0z\" fill=\"none\"/>\n",
              "    <path d=\"M18.56 5.44l.94 2.06.94-2.06 2.06-.94-2.06-.94-.94-2.06-.94 2.06-2.06.94zm-11 1L8.5 8.5l.94-2.06 2.06-.94-2.06-.94L8.5 2.5l-.94 2.06-2.06.94zm10 10l.94 2.06.94-2.06 2.06-.94-2.06-.94-.94-2.06-.94 2.06-2.06.94z\"/><path d=\"M17.41 7.96l-1.37-1.37c-.4-.4-.92-.59-1.43-.59-.52 0-1.04.2-1.43.59L10.3 9.45l-7.72 7.72c-.78.78-.78 2.05 0 2.83L4 21.41c.39.39.9.59 1.41.59.51 0 1.02-.2 1.41-.59l7.78-7.78 2.81-2.81c.8-.78.8-2.07 0-2.86zM5.41 20L4 18.59l7.72-7.72 1.47 1.35L5.41 20z\"/>\n",
              "  </svg>\n",
              "      </button>\n",
              "      \n",
              "  <style>\n",
              "    .colab-df-container {\n",
              "      display:flex;\n",
              "      flex-wrap:wrap;\n",
              "      gap: 12px;\n",
              "    }\n",
              "\n",
              "    .colab-df-convert {\n",
              "      background-color: #E8F0FE;\n",
              "      border: none;\n",
              "      border-radius: 50%;\n",
              "      cursor: pointer;\n",
              "      display: none;\n",
              "      fill: #1967D2;\n",
              "      height: 32px;\n",
              "      padding: 0 0 0 0;\n",
              "      width: 32px;\n",
              "    }\n",
              "\n",
              "    .colab-df-convert:hover {\n",
              "      background-color: #E2EBFA;\n",
              "      box-shadow: 0px 1px 2px rgba(60, 64, 67, 0.3), 0px 1px 3px 1px rgba(60, 64, 67, 0.15);\n",
              "      fill: #174EA6;\n",
              "    }\n",
              "\n",
              "    [theme=dark] .colab-df-convert {\n",
              "      background-color: #3B4455;\n",
              "      fill: #D2E3FC;\n",
              "    }\n",
              "\n",
              "    [theme=dark] .colab-df-convert:hover {\n",
              "      background-color: #434B5C;\n",
              "      box-shadow: 0px 1px 3px 1px rgba(0, 0, 0, 0.15);\n",
              "      filter: drop-shadow(0px 1px 2px rgba(0, 0, 0, 0.3));\n",
              "      fill: #FFFFFF;\n",
              "    }\n",
              "  </style>\n",
              "\n",
              "      <script>\n",
              "        const buttonEl =\n",
              "          document.querySelector('#df-5f8c470d-bd85-4c89-ba7b-8c619d1f5936 button.colab-df-convert');\n",
              "        buttonEl.style.display =\n",
              "          google.colab.kernel.accessAllowed ? 'block' : 'none';\n",
              "\n",
              "        async function convertToInteractive(key) {\n",
              "          const element = document.querySelector('#df-5f8c470d-bd85-4c89-ba7b-8c619d1f5936');\n",
              "          const dataTable =\n",
              "            await google.colab.kernel.invokeFunction('convertToInteractive',\n",
              "                                                     [key], {});\n",
              "          if (!dataTable) return;\n",
              "\n",
              "          const docLinkHtml = 'Like what you see? Visit the ' +\n",
              "            '<a target=\"_blank\" href=https://colab.research.google.com/notebooks/data_table.ipynb>data table notebook</a>'\n",
              "            + ' to learn more about interactive tables.';\n",
              "          element.innerHTML = '';\n",
              "          dataTable['output_type'] = 'display_data';\n",
              "          await google.colab.output.renderOutput(dataTable, element);\n",
              "          const docLink = document.createElement('div');\n",
              "          docLink.innerHTML = docLinkHtml;\n",
              "          element.appendChild(docLink);\n",
              "        }\n",
              "      </script>\n",
              "    </div>\n",
              "  </div>\n",
              "  "
            ]
          },
          "metadata": {},
          "execution_count": 3
        }
      ],
      "source": [
        "df = pd.read_csv('international_matches.csv')\n",
        "df.tail(10)"
      ]
    },
    {
      "cell_type": "markdown",
      "source": [
        "# Part (B) - Scatter Plot of the Data"
      ],
      "metadata": {
        "id": "m_xrgxQx_pDr"
      }
    },
    {
      "cell_type": "code",
      "source": [
        "x = df['home_team_fifa_rank']\n",
        "y = df['away_team_fifa_rank']\n",
        "colors = df['home_team_result']\n",
        "colors = colors.replace('Win', 'green')\n",
        "colors = colors.replace('Draw', 'yellow')\n",
        "colors = colors.replace('Lose', 'red')\n",
        "\n",
        "\n",
        "plt.scatter(x, y, c=colors)\n",
        "plt.xlabel('Home Team Fifa Rank')\n",
        "plt.ylabel('Away Team Fifa Rank')\n",
        "plt.title('Home Team Result (Green=Win, Yellow=Draw, Red=Lose)')\n",
        "plt.show()"
      ],
      "metadata": {
        "colab": {
          "base_uri": "https://localhost:8080/",
          "height": 295
        },
        "id": "LGGFd9ZJ_rTa",
        "outputId": "14d499cd-a4d3-421d-814f-89d206cb74eb"
      },
      "execution_count": 4,
      "outputs": [
        {
          "output_type": "display_data",
          "data": {
            "text/plain": [
              "<Figure size 432x288 with 1 Axes>"
            ],
            "image/png": "[encoded data removed]"
          },
          "metadata": {
            "needs_background": "light"
          }
        }
      ]
    },
    {
      "cell_type": "markdown",
      "source": [
        "# Part (C) - Data Sorting"
      ],
      "metadata": {
        "id": "ZNR_pPLQ_ru-"
      }
    },
    {
      "cell_type": "code",
      "source": [
        "df_modified = df[['home_team_fifa_rank', 'away_team_fifa_rank',\n",
        "                  'home_team_total_fifa_points', 'away_team_total_fifa_points',\n",
        "                  'home_team_result']]\n",
        "\n",
        "df_modified = df_modified[df_modified.home_team_total_fifa_points != 0]\n",
        "df_modified = df_modified[df_modified.away_team_total_fifa_points != 0]"
      ],
      "metadata": {
        "id": "sxyPMF9M_wQy"
      },
      "execution_count": 5,
      "outputs": []
    },
    {
      "cell_type": "code",
      "source": [
        "df_modified = df_modified.reset_index()\n",
        "train_df = df_modified[:floor(0.75 * len(df_modified))]\n",
        "test_df = df_modified[floor(0.75 * len(df_modified)):]"
      ],
      "metadata": {
        "id": "ixuZ6wBqryuE"
      },
      "execution_count": 6,
      "outputs": []
    },
    {
      "cell_type": "markdown",
      "source": [
        "# Part (D) - Correlation of Features"
      ],
      "metadata": {
        "id": "QnzAg7ez_wsT"
      }
    },
    {
      "cell_type": "code",
      "source": [
        "df_features = df_modified[['home_team_fifa_rank', 'away_team_fifa_rank',\n",
        "                  'home_team_total_fifa_points', 'away_team_total_fifa_points']]\n",
        "corr = df_features.corr() # Correlation between features\n",
        "hm = sn.heatmap(data = corr, annot=True)\n",
        "plt.show()"
      ],
      "metadata": {
        "colab": {
          "base_uri": "https://localhost:8080/",
          "height": 403
        },
        "id": "iuZxtqxY7Exd",
        "outputId": "0e7ca514-0069-456c-e62d-01d72066d073"
      },
      "execution_count": 7,
      "outputs": [
        {
          "output_type": "display_data",
          "data": {
            "text/plain": [
              "<Figure size 432x288 with 2 Axes>"
            ],
            "image/png": "[encoded data removed]"
          },
          "metadata": {
            "needs_background": "light"
          }
        }
      ]
    },
    {
      "cell_type": "markdown",
      "source": [
        "# Part (E) - Network Architecture Design"
      ],
      "metadata": {
        "id": "1GyANNYs_1WS"
      }
    },
    {
      "cell_type": "code",
      "source": [
        "class NeuralNetwork(nn.Module):\n",
        "    def __init__(self):\n",
        "        super(NeuralNetwork, self).__init__()\n",
        "        self.linear_relu_stack = nn.Sequential(\n",
        "            nn.Linear(4, 10),\n",
        "            nn.ReLU(),\n",
        "            nn.Linear(10, 20),\n",
        "            nn.ReLU(),\n",
        "            nn.Linear(20, 8),\n",
        "            nn.ReLU(),\n",
        "            nn.Linear(8, 3),\n",
        "            nn.ReLU()\n",
        "        )\n",
        "\n",
        "    def forward(self, x):\n",
        "        logits = self.linear_relu_stack(x)\n",
        "        y = F.softmax(logits, dim=1)\n",
        "        return y"
      ],
      "metadata": {
        "id": "B4IORlO9Eg14"
      },
      "execution_count": 8,
      "outputs": []
    },
    {
      "cell_type": "code",
      "source": [
        "# creating an instance of our model\n",
        "model = NeuralNetwork().to(device)\n",
        "print(model)"
      ],
      "metadata": {
        "id": "UmNkFLjZFYap",
        "colab": {
          "base_uri": "https://localhost:8080/"
        },
        "outputId": "239f4537-f95b-47cf-d31f-0d3fe94d3586"
      },
      "execution_count": 9,
      "outputs": [
        {
          "output_type": "stream",
          "name": "stdout",
          "text": [
            "NeuralNetwork(\n",
            "  (linear_relu_stack): Sequential(\n",
            "    (0): Linear(in_features=4, out_features=10, bias=True)\n",
            "    (1): ReLU()\n",
            "    (2): Linear(in_features=10, out_features=20, bias=True)\n",
            "    (3): ReLU()\n",
            "    (4): Linear(in_features=20, out_features=8, bias=True)\n",
            "    (5): ReLU()\n",
            "    (6): Linear(in_features=8, out_features=3, bias=True)\n",
            "    (7): ReLU()\n",
            "  )\n",
            ")\n"
          ]
        }
      ]
    },
    {
      "cell_type": "markdown",
      "source": [
        "# Part (F) - Model Training & Testing"
      ],
      "metadata": {
        "id": "QovCltby_33S"
      }
    },
    {
      "cell_type": "code",
      "source": [
        "learning_rate = 1e-1\n",
        "batch_size = 64\n",
        "epochs = 20"
      ],
      "metadata": {
        "id": "oAiRovhN4lH0"
      },
      "execution_count": 10,
      "outputs": []
    },
    {
      "cell_type": "code",
      "source": [
        "df_modified = df_modified.replace({'home_team_result':{'Lose':0, 'Draw':1, 'Win':2}})\n",
        "train_df = train_df.replace({'home_team_result':{'Lose':0, 'Draw':1, 'Win':2}})\n",
        "test_df = test_df.replace({'home_team_result':{'Lose':0, 'Draw':1, 'Win':2}})"
      ],
      "metadata": {
        "id": "IxAVk5JuXUJC"
      },
      "execution_count": 11,
      "outputs": []
    },
    {
      "cell_type": "code",
      "source": [
        "df_modified_mean = df_modified.mean()\n",
        "df_modified_std = df_modified.std()"
      ],
      "metadata": {
        "id": "Vo8PPTt5fM8F"
      },
      "execution_count": 12,
      "outputs": []
    },
    {
      "cell_type": "code",
      "source": [
        "train_df_normalized = (train_df - train_df.mean()) / train_df.std()\n",
        "train_df_normalized['home_team_result'] = train_df['home_team_result']\n",
        "\n",
        "test_df_normalized =(test_df - test_df.mean()) / test_df.std()\n",
        "test_df_normalized['home_team_result'] = test_df['home_team_result']"
      ],
      "metadata": {
        "id": "8AR9A1oClen-"
      },
      "execution_count": 13,
      "outputs": []
    },
    {
      "cell_type": "code",
      "source": [
        "train_array = train_df_normalized.to_numpy()\n",
        "test_array = test_df_normalized.to_numpy()"
      ],
      "metadata": {
        "id": "LPq5bHzBmm_r"
      },
      "execution_count": 14,
      "outputs": []
    },
    {
      "cell_type": "code",
      "source": [
        "class CustomDataset(Dataset):\n",
        "    def __init__(self, X_train, y_train, transform=None, target_transform=None):\n",
        "      self.transform = transform\n",
        "      self.target_transform = target_transform\n",
        "      # need to convert float64 to float32 else \n",
        "      # will get the following error\n",
        "      # RuntimeError: expected scalar type Double but found Float\n",
        "      self.X = torch.from_numpy(X_train.astype(np.float32))\n",
        "      # need to convert float64 to Long else \n",
        "      # will get the following error\n",
        "      # RuntimeError: expected scalar type Long but found Float\n",
        "      self.y = torch.from_numpy(y_train).type(torch.LongTensor)\n",
        "      self.len = self.X.shape[0]\n",
        "  \n",
        "    def __getitem__(self, index):\n",
        "      feature = self.X[index]\n",
        "      if self.transform:\n",
        "        feature = self.transform(self.X[index])\n",
        "      label = self.y[index]\n",
        "      if self.target_transform:\n",
        "        label = self.target_transform(self.y[index])\n",
        "      return feature, label  \n",
        "    def __len__(self):\n",
        "      return self.len"
      ],
      "metadata": {
        "id": "wg7JzRJ5T4JA"
      },
      "execution_count": 15,
      "outputs": []
    },
    {
      "cell_type": "code",
      "source": [
        "target_transform = Lambda(lambda y: torch.zeros(3, dtype=torch.float).scatter_(dim=0, index=torch.tensor(y),\n",
        "                                                                                    value=1))\n",
        "training_data = CustomDataset(train_array[:, 1:-1], train_array[:, -1], target_transform=target_transform)\n",
        "test_data = CustomDataset(test_array[:, 1:-1], test_array[:, -1], target_transform=target_transform)"
      ],
      "metadata": {
        "id": "jHiJ9klvVebS"
      },
      "execution_count": 16,
      "outputs": []
    },
    {
      "cell_type": "code",
      "source": [
        "train_dataloader = DataLoader(training_data, batch_size=batch_size, shuffle=True)\n",
        "test_dataloader = DataLoader(test_data, batch_size=batch_size, shuffle=True)"
      ],
      "metadata": {
        "id": "bRD2S5EP2fM9"
      },
      "execution_count": 17,
      "outputs": []
    },
    {
      "cell_type": "code",
      "source": [
        "def TrainDataSet_Accuracy(dataloader, model, loss_fn):\n",
        "    size = floor(len(dataloader.dataset) / batch_size) * batch_size\n",
        "    num_batches = floor(len(dataloader.dataset) / batch_size)\n",
        "    train_loss, correct = 0, 0\n",
        "\n",
        "    with torch.no_grad():\n",
        "        for X, y in dataloader:\n",
        "            X = X.to(device)\n",
        "            y = y.to(device)\n",
        "            if len(X) < batch_size:\n",
        "              break\n",
        "            pred = model(X)\n",
        "            train_loss += loss_fn(pred, y).item()\n",
        "            #\n",
        "            for i in range(batch_size):\n",
        "              v1 = pred[i]\n",
        "              v2 = y[i]\n",
        "              if torch.argmax(v1) == torch.argmax(v2):\n",
        "                correct += 1\n",
        "            #correct += (pred.argmax(1) == y).type(torch.float).sum().item()\n",
        "\n",
        "    train_loss /= num_batches\n",
        "    correct /= size\n",
        "    print(f\"Train Dataset: \\n Accuracy: {(100*correct):>0.1f}%, Avg loss: {train_loss:>8f} \\n\")"
      ],
      "metadata": {
        "id": "zD4I8KPGC1Sf"
      },
      "execution_count": 18,
      "outputs": []
    },
    {
      "cell_type": "code",
      "source": [
        "def TestDataSet_Accuracy(dataloader, model, loss_fn):\n",
        "    size = floor(len(dataloader.dataset) / batch_size) * batch_size\n",
        "    num_batches = floor(len(dataloader.dataset) / batch_size)\n",
        "    test_loss, correct = 0, 0\n",
        "\n",
        "    with torch.no_grad():\n",
        "        for X, y in dataloader:\n",
        "            X = X.to(device)\n",
        "            y = y.to(device)\n",
        "            if len(X) < batch_size:\n",
        "              break\n",
        "            pred = model(X)\n",
        "            test_loss += loss_fn(pred, y).item()\n",
        "            #\n",
        "            for i in range(batch_size):\n",
        "              v1 = pred[i]\n",
        "              v2 = y[i]\n",
        "              if torch.argmax(v1) == torch.argmax(v2):\n",
        "                correct += 1\n",
        "            #correct += (pred.argmax(1) == y).type(torch.float).sum().item()\n",
        "\n",
        "    test_loss /= num_batches\n",
        "    correct /= size\n",
        "    print(f\"Test Dataset: \\n Accuracy: {(100*correct):>0.1f}%, Avg loss: {test_loss:>8f} \\n\")"
      ],
      "metadata": {
        "id": "i_P2iHvdC5uD"
      },
      "execution_count": 19,
      "outputs": []
    },
    {
      "cell_type": "code",
      "source": [
        "def train_loop(dataloader, model, loss_fn, optimizer):\n",
        "    size = len(dataloader.dataset)\n",
        "    for batch, (X, y) in enumerate(dataloader):\n",
        "        # Compute prediction and loss\n",
        "        X = X.to(device)\n",
        "        y = y.to(device)\n",
        "        pred = model(X)\n",
        "        loss = loss_fn(pred, y)\n",
        "\n",
        "        # Backpropagation\n",
        "        optimizer.zero_grad()\n",
        "        loss.backward()\n",
        "        optimizer.step()"
      ],
      "metadata": {
        "id": "eXemkPZ_FpKj"
      },
      "execution_count": 20,
      "outputs": []
    },
    {
      "cell_type": "code",
      "source": [
        "loss_fn = nn.CrossEntropyLoss()\n",
        "optimizer = torch.optim.SGD(model.parameters(), lr=learning_rate)\n",
        "for t in range(epochs):\n",
        "    print(f\"Epoch {t+1}\\n-------------------------------\")\n",
        "    model.train()\n",
        "    train_loop(train_dataloader, model, loss_fn, optimizer)\n",
        "    model.eval()\n",
        "    TrainDataSet_Accuracy(train_dataloader, model, loss_fn)\n",
        "    TestDataSet_Accuracy(test_dataloader, model, loss_fn)\n",
        "print(\"Done!\")"
      ],
      "metadata": {
        "colab": {
          "base_uri": "https://localhost:8080/"
        },
        "id": "RV1GcMMIDC0Q",
        "outputId": "3808e0b4-c85e-4879-92f2-aed32224cdfe"
      },
      "execution_count": 21,
      "outputs": [
        {
          "output_type": "stream",
          "name": "stdout",
          "text": [
            "Epoch 1\n",
            "-------------------------------\n"
          ]
        },
        {
          "output_type": "stream",
          "name": "stderr",
          "text": [
            "<ipython-input-16-7c12f4c8b0a9>:1: UserWarning: To copy construct from a tensor, it is recommended to use sourceTensor.clone().detach() or sourceTensor.clone().detach().requires_grad_(True), rather than torch.tensor(sourceTensor).\n",
            "  target_transform = Lambda(lambda y: torch.zeros(3, dtype=torch.float).scatter_(dim=0, index=torch.tensor(y),\n"
          ]
        },
        {
          "output_type": "stream",
          "name": "stdout",
          "text": [
            "Train Dataset: \n",
            " Accuracy: 48.5%, Avg loss: 1.059937 \n",
            "\n",
            "Test Dataset: \n",
            " Accuracy: 48.9%, Avg loss: 1.058138 \n",
            "\n",
            "Epoch 2\n",
            "-------------------------------\n",
            "Train Dataset: \n",
            " Accuracy: 48.4%, Avg loss: 1.048359 \n",
            "\n",
            "Test Dataset: \n",
            " Accuracy: 48.9%, Avg loss: 1.044179 \n",
            "\n",
            "Epoch 3\n",
            "-------------------------------\n",
            "Train Dataset: \n",
            " Accuracy: 48.5%, Avg loss: 1.040706 \n",
            "\n",
            "Test Dataset: \n",
            " Accuracy: 48.8%, Avg loss: 1.033733 \n",
            "\n",
            "Epoch 4\n",
            "-------------------------------\n",
            "Train Dataset: \n",
            " Accuracy: 48.4%, Avg loss: 1.031580 \n",
            "\n",
            "Test Dataset: \n",
            " Accuracy: 48.7%, Avg loss: 1.019877 \n",
            "\n",
            "Epoch 5\n",
            "-------------------------------\n",
            "Train Dataset: \n",
            " Accuracy: 48.4%, Avg loss: 1.018016 \n",
            "\n",
            "Test Dataset: \n",
            " Accuracy: 48.9%, Avg loss: 1.000106 \n",
            "\n",
            "Epoch 6\n",
            "-------------------------------\n",
            "Train Dataset: \n",
            " Accuracy: 48.5%, Avg loss: 1.006266 \n",
            "\n",
            "Test Dataset: \n",
            " Accuracy: 48.7%, Avg loss: 0.986152 \n",
            "\n",
            "Epoch 7\n",
            "-------------------------------\n",
            "Train Dataset: \n",
            " Accuracy: 50.7%, Avg loss: 0.999535 \n",
            "\n",
            "Test Dataset: \n",
            " Accuracy: 54.0%, Avg loss: 0.975528 \n",
            "\n",
            "Epoch 8\n",
            "-------------------------------\n",
            "Train Dataset: \n",
            " Accuracy: 54.3%, Avg loss: 0.997293 \n",
            "\n",
            "Test Dataset: \n",
            " Accuracy: 59.0%, Avg loss: 0.974807 \n",
            "\n",
            "Epoch 9\n",
            "-------------------------------\n",
            "Train Dataset: \n",
            " Accuracy: 55.2%, Avg loss: 0.996786 \n",
            "\n",
            "Test Dataset: \n",
            " Accuracy: 60.1%, Avg loss: 0.972070 \n",
            "\n",
            "Epoch 10\n",
            "-------------------------------\n",
            "Train Dataset: \n",
            " Accuracy: 55.7%, Avg loss: 0.996280 \n",
            "\n",
            "Test Dataset: \n",
            " Accuracy: 60.7%, Avg loss: 0.971697 \n",
            "\n",
            "Epoch 11\n",
            "-------------------------------\n",
            "Train Dataset: \n",
            " Accuracy: 55.9%, Avg loss: 0.996184 \n",
            "\n",
            "Test Dataset: \n",
            " Accuracy: 60.9%, Avg loss: 0.971902 \n",
            "\n",
            "Epoch 12\n",
            "-------------------------------\n",
            "Train Dataset: \n",
            " Accuracy: 56.0%, Avg loss: 0.995675 \n",
            "\n",
            "Test Dataset: \n",
            " Accuracy: 61.0%, Avg loss: 0.971435 \n",
            "\n",
            "Epoch 13\n",
            "-------------------------------\n",
            "Train Dataset: \n",
            " Accuracy: 56.1%, Avg loss: 0.995419 \n",
            "\n",
            "Test Dataset: \n",
            " Accuracy: 61.0%, Avg loss: 0.971551 \n",
            "\n",
            "Epoch 14\n",
            "-------------------------------\n",
            "Train Dataset: \n",
            " Accuracy: 56.0%, Avg loss: 0.995870 \n",
            "\n",
            "Test Dataset: \n",
            " Accuracy: 61.2%, Avg loss: 0.970792 \n",
            "\n",
            "Epoch 15\n",
            "-------------------------------\n",
            "Train Dataset: \n",
            " Accuracy: 56.1%, Avg loss: 0.995324 \n",
            "\n",
            "Test Dataset: \n",
            " Accuracy: 61.0%, Avg loss: 0.971760 \n",
            "\n",
            "Epoch 16\n",
            "-------------------------------\n",
            "Train Dataset: \n",
            " Accuracy: 55.9%, Avg loss: 0.995484 \n",
            "\n",
            "Test Dataset: \n",
            " Accuracy: 61.0%, Avg loss: 0.970776 \n",
            "\n",
            "Epoch 17\n",
            "-------------------------------\n",
            "Train Dataset: \n",
            " Accuracy: 56.3%, Avg loss: 0.995242 \n",
            "\n",
            "Test Dataset: \n",
            " Accuracy: 61.5%, Avg loss: 0.970914 \n",
            "\n",
            "Epoch 18\n",
            "-------------------------------\n",
            "Train Dataset: \n",
            " Accuracy: 56.0%, Avg loss: 0.995424 \n",
            "\n",
            "Test Dataset: \n",
            " Accuracy: 60.8%, Avg loss: 0.971762 \n",
            "\n",
            "Epoch 19\n",
            "-------------------------------\n",
            "Train Dataset: \n",
            " Accuracy: 55.9%, Avg loss: 0.995467 \n",
            "\n",
            "Test Dataset: \n",
            " Accuracy: 61.1%, Avg loss: 0.971369 \n",
            "\n",
            "Epoch 20\n",
            "-------------------------------\n",
            "Train Dataset: \n",
            " Accuracy: 56.0%, Avg loss: 0.994963 \n",
            "\n",
            "Test Dataset: \n",
            " Accuracy: 60.9%, Avg loss: 0.971721 \n",
            "\n",
            "Done!\n"
          ]
        }
      ]
    },
    {
      "cell_type": "code",
      "source": [
        "print('Model Accuracy on Test Data \\n-------------------------------\\n')\n",
        "TestDataSet_Accuracy(test_dataloader, model, loss_fn)\n",
        "print(' \\n-------------------------------')"
      ],
      "metadata": {
        "colab": {
          "base_uri": "https://localhost:8080/"
        },
        "id": "CPbTVyHlU3yp",
        "outputId": "42fe25d9-7f97-4898-eb29-6b27b124173e"
      },
      "execution_count": 22,
      "outputs": [
        {
          "output_type": "stream",
          "name": "stdout",
          "text": [
            "Model Accuracy on Test Data \n",
            "-------------------------------\n",
            "\n",
            "Test Dataset: \n",
            " Accuracy: 60.9%, Avg loss: 0.970844 \n",
            "\n",
            " \n",
            "-------------------------------\n"
          ]
        },
        {
          "output_type": "stream",
          "name": "stderr",
          "text": [
            "<ipython-input-16-7c12f4c8b0a9>:1: UserWarning: To copy construct from a tensor, it is recommended to use sourceTensor.clone().detach() or sourceTensor.clone().detach().requires_grad_(True), rather than torch.tensor(sourceTensor).\n",
            "  target_transform = Lambda(lambda y: torch.zeros(3, dtype=torch.float).scatter_(dim=0, index=torch.tensor(y),\n"
          ]
        }
      ]
    },
    {
      "cell_type": "markdown",
      "source": [
        "# Part (G) - Results"
      ],
      "metadata": {
        "id": "pfJQbD9I_6ba"
      }
    },
    {
      "cell_type": "markdown",
      "source": [
        "**Group B:**\n",
        "\n",
        "**Iran**:\n",
        "\n",
        "(Fifa Rank: 20, Total Fifa Points: 1564.61)\n",
        "\n",
        "**England**:\n",
        "\n",
        "(Fifa Rank: 5, Total Fifa Points: 1728.47)\n",
        "\n",
        "**USA**:\n",
        "\n",
        "(Fifa Rank: 16, Total Fifa Points: 1627.48)\n",
        "\n",
        "**Wales**:\n",
        "\n",
        "(Fifa Rank: 19, Total Fifa Points: 1569.82)\n",
        "\n"
      ],
      "metadata": {
        "id": "3lHWuQT2ZR_B"
      }
    },
    {
      "cell_type": "code",
      "source": [
        "Iran_rank = 20\n",
        "Iran_points = 1564.61\n",
        "England_rank = 5\n",
        "England_points = 1728.47\n",
        "USA_rank = 16\n",
        "USA_points = 1627.48\n",
        "Wales_rank = 19\n",
        "Wales_points = 1569.82"
      ],
      "metadata": {
        "id": "WmpU42nZdMwE"
      },
      "execution_count": 23,
      "outputs": []
    },
    {
      "cell_type": "markdown",
      "source": [
        "**Iran v.s. England**"
      ],
      "metadata": {
        "id": "ztHarA49eHfq"
      }
    },
    {
      "cell_type": "code",
      "source": [
        "feature1 = (Iran_rank - df_modified_mean[1]) / df_modified_std[1]\n",
        "feature2 = (England_rank - df_modified_mean[2]) / df_modified_std[2]\n",
        "feature3 = (Iran_points - df_modified_mean[3]) / df_modified_std[3]\n",
        "feature4 = (England_points - df_modified_mean[4]) / df_modified_std[4]"
      ],
      "metadata": {
        "id": "ijHXyNFMe5SP"
      },
      "execution_count": 24,
      "outputs": []
    },
    {
      "cell_type": "code",
      "source": [
        "feature_array = np.array([feature1, feature2, feature3, feature4])\n",
        "feature_tensor = torch.from_numpy(feature_array.astype(np.float32))\n",
        "feature_tensor = torch.reshape(feature_tensor, (1, 4))\n",
        "feature_tensor = feature_tensor.to(device)\n",
        "with torch.no_grad():\n",
        "  pred = model(feature_tensor)\n",
        "\n",
        "print(f\"The chance of Iran winning against England: {(100*pred[0, 2]):>0.1f}%\")"
      ],
      "metadata": {
        "colab": {
          "base_uri": "https://localhost:8080/"
        },
        "id": "e3GixR9Qgw0A",
        "outputId": "f4f0d12c-499c-46d5-e456-118ab3ba6365"
      },
      "execution_count": 25,
      "outputs": [
        {
          "output_type": "stream",
          "name": "stdout",
          "text": [
            "The chance of Iran winning against England: 33.3%\n"
          ]
        }
      ]
    },
    {
      "cell_type": "markdown",
      "source": [
        "**Iran v.s. USA**"
      ],
      "metadata": {
        "id": "BcPYgDCzeTCJ"
      }
    },
    {
      "cell_type": "code",
      "source": [
        "feature1 = (Iran_rank - df_modified_mean[1]) / df_modified_std[1]\n",
        "feature2 = (USA_rank - df_modified_mean[2]) / df_modified_std[2]\n",
        "feature3 = (Iran_points - df_modified_mean[3]) / df_modified_std[3]\n",
        "feature4 = (USA_points - df_modified_mean[4]) / df_modified_std[4]"
      ],
      "metadata": {
        "id": "obKtuRpymeWR"
      },
      "execution_count": 26,
      "outputs": []
    },
    {
      "cell_type": "code",
      "source": [
        "feature_array = np.array([feature1, feature2, feature3, feature4])\n",
        "feature_tensor = torch.from_numpy(feature_array.astype(np.float32))\n",
        "feature_tensor = torch.reshape(feature_tensor, (1, 4))\n",
        "feature_tensor = feature_tensor.to(device)\n",
        "with torch.no_grad():\n",
        "  pred = model(feature_tensor)\n",
        "\n",
        "print(f\"The chance of Iran winning against USA: {(100*pred[0, 2]):>0.1f}%\")"
      ],
      "metadata": {
        "colab": {
          "base_uri": "https://localhost:8080/"
        },
        "id": "AFBfW6btmlM-",
        "outputId": "1f76ca87-2269-440b-c5c4-f7f0900c59d9"
      },
      "execution_count": 27,
      "outputs": [
        {
          "output_type": "stream",
          "name": "stdout",
          "text": [
            "The chance of Iran winning against USA: 53.7%\n"
          ]
        }
      ]
    },
    {
      "cell_type": "markdown",
      "source": [
        "**Iran v.s. Wales**"
      ],
      "metadata": {
        "id": "_i8WDGxEeeJw"
      }
    },
    {
      "cell_type": "code",
      "source": [
        "feature1 = (Iran_rank - df_modified_mean[1]) / df_modified_std[1]\n",
        "feature2 = (Wales_rank - df_modified_mean[2]) / df_modified_std[2]\n",
        "feature3 = (Iran_points - df_modified_mean[3]) / df_modified_std[3]\n",
        "feature4 = (Wales_points - df_modified_mean[4]) / df_modified_std[4]"
      ],
      "metadata": {
        "id": "xWci-rfymrcm"
      },
      "execution_count": 28,
      "outputs": []
    },
    {
      "cell_type": "code",
      "source": [
        "feature_array = np.array([feature1, feature2, feature3, feature4])\n",
        "feature_tensor = torch.from_numpy(feature_array.astype(np.float32))\n",
        "feature_tensor = torch.reshape(feature_tensor, (1, 4))\n",
        "feature_tensor = feature_tensor.to(device)\n",
        "with torch.no_grad():\n",
        "  pred = model(feature_tensor)\n",
        "\n",
        "print(f\"The chance of Iran winning against Wales: {(100*pred[0, 2]):>0.1f}%\")"
      ],
      "metadata": {
        "colab": {
          "base_uri": "https://localhost:8080/"
        },
        "id": "MaNCaB4ymxG-",
        "outputId": "6643ebd2-1860-4225-bb07-98cab0454620"
      },
      "execution_count": 29,
      "outputs": [
        {
          "output_type": "stream",
          "name": "stdout",
          "text": [
            "The chance of Iran winning against Wales: 66.7%\n"
          ]
        }
      ]
    }
  ]
}